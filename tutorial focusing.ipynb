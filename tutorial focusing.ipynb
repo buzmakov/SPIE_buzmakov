{
 "metadata": {
  "name": "",
  "signature": "sha256:c2168a5ea701eec83db52f94e87f3d328d3e6bc2e3c3398bb63f9446f499952f"
 },
 "nbformat": 3,
 "nbformat_minor": 0,
 "worksheets": [
  {
   "cells": [
    {
     "cell_type": "code",
     "collapsed": false,
     "input": [
      "%pylab inline"
     ],
     "language": "python",
     "metadata": {},
     "outputs": []
    },
    {
     "cell_type": "code",
     "collapsed": false,
     "input": [
      "wpg_path = '/home/makov/workspace/my/xfel/WPG'"
     ],
     "language": "python",
     "metadata": {},
     "outputs": []
    },
    {
     "cell_type": "code",
     "collapsed": false,
     "input": [
      "#Importing necessary modules:\n",
      "import os\n",
      "import sys\n",
      "sys.path.insert(0,wpg_path)\n",
      "\n",
      "import time\n",
      "import copy\n",
      "import numpy as np\n",
      "import pylab as plt\n"
     ],
     "language": "python",
     "metadata": {},
     "outputs": []
    },
    {
     "cell_type": "code",
     "collapsed": false,
     "input": [
      "from wpg import Wavefront, Beamline\n",
      "from wpg.optical_elements import Drift, Lens, Use_PP\n",
      "import wpg.srwlib\n",
      "plt.ion()"
     ],
     "language": "python",
     "metadata": {},
     "outputs": []
    },
    {
     "cell_type": "code",
     "collapsed": false,
     "input": [
      "def propagate(in_fname, out_fname):\n",
      "    # Creating Wavefront object and load it from hdf5 file\n",
      "    wf=Wavefront()\n",
      "    wf.load_hdf5(in_fname)\n",
      "    \n",
      "    # Defining Drifts and Lens optical elements\n",
      "    distance = 300.\n",
      "    foc_dist = 2.\n",
      "    drift0 = Drift(_L=distance)\n",
      "    lens0  = Lens(_Fx=foc_dist, _Fy=foc_dist)\n",
      "    drift1 = Drift(_L=1./(1./foc_dist-1./distance))\n",
      "\n",
      "    # Building beamline \n",
      "    bl0 = Beamline()\n",
      "    bl0.append(drift0, Use_PP(semi_analytical_treatment=1,zoom=0.15,sampling=8))\n",
      "    bl0.append(lens0,  Use_PP())\n",
      "    bl0.append(drift1, Use_PP(semi_analytical_treatment=1,zoom=4.2,  sampling=0.5))\n",
      "    \n",
      "    # Switch to frequency representation of electric field  \n",
      "    wpg.srwlib.srwl.SetRepresElecField(wf._srwl_wf, 'f')\n",
      "    # Propagate wavefront though beamline\n",
      "    bl0.propagate(wf)\n",
      "    # Switch back to time representation of electric field\n",
      "    wpg.srwlib.srwl.SetRepresElecField(wf._srwl_wf, 't')\n",
      "\n",
      "    # Saving the wavefront data after propagation\n",
      "    wf.store_hdf5(out_fname)"
     ],
     "language": "python",
     "metadata": {},
     "outputs": []
    },
    {
     "cell_type": "code",
     "collapsed": false,
     "input": [
      "input_file = './simulation_LP_5kev_9fs_2NIP_EMC/FELsource/FELsource_out_000001.h5'\n",
      "output_file = './simulation_LP_5kev_9fs_2NIP_EMC/FELsource/prop_out_000001.h5'"
     ],
     "language": "python",
     "metadata": {},
     "outputs": []
    },
    {
     "cell_type": "code",
     "collapsed": false,
     "input": [
      "w_in = Wavefront()\n",
      "w_in.load_hdf5(input_file)\n",
      "data_in = w_in.get_intensity().sum(axis=-1)"
     ],
     "language": "python",
     "metadata": {},
     "outputs": []
    },
    {
     "cell_type": "code",
     "collapsed": false,
     "input": [
      "limits_in = np.array(w_in.get_limits())*1e6\n",
      "scale_in=0.2\n",
      "shape_in = data_in.shape\n",
      "center_in = np.array(data_in.shape)/2\n",
      "data_in_scaled = data_in[int(center_in[0]-shape_in[0]*scale_in/2) : int(center_in[0]+shape_in[0]*scale_in/2),\n",
      "                         int(center_in[1]-shape_in[1]*scale_in/2) : int(center_in[1]+shape_in[1]*scale_in/2)]\n",
      "limits_in_scaled = limits_in*scale_in\n",
      "plt.imshow(data_in_scaled, extent=limits_in_scaled, cmap=plt.cm.bone)\n",
      "plt.ylabel('$\\mu m$')\n",
      "plt.xlabel('$\\mu m$')\n",
      "plt.savefig('2.1.png')"
     ],
     "language": "python",
     "metadata": {},
     "outputs": []
    },
    {
     "cell_type": "code",
     "collapsed": false,
     "input": [
      "propagate(input_file,output_file)"
     ],
     "language": "python",
     "metadata": {},
     "outputs": []
    },
    {
     "cell_type": "code",
     "collapsed": false,
     "input": [
      "w_out = Wavefront()\n",
      "w_out.load_hdf5(output_file)\n",
      "data_out = w_out.get_intensity().sum(axis=-1)"
     ],
     "language": "python",
     "metadata": {},
     "outputs": []
    },
    {
     "cell_type": "code",
     "collapsed": false,
     "input": [
      "limits_out = np.array(w_out.get_limits())*1e6\n",
      "scale_out=0.5\n",
      "shape_out = data_out.shape\n",
      "center_out = np.array(data_out.shape)/2\n",
      "data_out_scaled = data_out[int(center_out[0]-shape_out[0]*scale_out/2) : int(center_out[0]+shape_out[0]*scale_out/2),\n",
      "                         int(center_out[1]-shape_out[1]*scale_out/2) : int(center_out[1]+shape_out[1]*scale_out/2)]\n",
      "limits_out_scaled = limits_out*scale_out\n",
      "plt.imshow(data_out_scaled, extent=limits_out_scaled, cmap=plt.cm.bone)\n",
      "plt.ylabel('$\\mu m$')\n",
      "plt.xlabel('$\\mu m$')\n",
      "plt.savefig('2.2.png')"
     ],
     "language": "python",
     "metadata": {},
     "outputs": []
    },
    {
     "cell_type": "code",
     "collapsed": false,
     "input": [
      "distance = 300.\n",
      "foc_dist = 2.\n",
      "drift0 = Drift(_L=distance)\n",
      "lens0  = Lens(_Fx=foc_dist, _Fy=foc_dist)\n",
      "drift1 = Drift(_L=1./(1./foc_dist-1./distance))\n",
      "\n",
      "# Building beamline \n",
      "bl0 = Beamline()\n",
      "bl0.append(drift0, Use_PP(semi_analytical_treatment=1,zoom=0.15,sampling=8))\n",
      "bl0.append(lens0,  Use_PP())\n",
      "bl0.append(drift1, Use_PP(semi_analytical_treatment=1,zoom=4.2,  sampling=0.5))\n",
      "print bl0"
     ],
     "language": "python",
     "metadata": {},
     "outputs": []
    },
    {
     "cell_type": "code",
     "collapsed": false,
     "input": [],
     "language": "python",
     "metadata": {},
     "outputs": []
    }
   ],
   "metadata": {}
  }
 ]
}