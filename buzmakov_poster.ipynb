{
 "metadata": {
  "name": "",
  "signature": "sha256:55d4134ba585d59c04a79675331503d6df922b70ca51c712c8c85894c1d1f69a"
 },
 "nbformat": 3,
 "nbformat_minor": 0,
 "worksheets": [
  {
   "cells": [
    {
     "cell_type": "code",
     "collapsed": false,
     "input": [
      "%pylab inline"
     ],
     "language": "python",
     "metadata": {},
     "outputs": [
      {
       "output_type": "stream",
       "stream": "stdout",
       "text": [
        "Populating the interactive namespace from numpy and matplotlib\n"
       ]
      }
     ],
     "prompt_number": 1
    },
    {
     "cell_type": "markdown",
     "metadata": {},
     "source": [
      "# WaveProperGator: interactive framework for x-ray FEL optics design and simulation\n",
      "\n",
      "\n",
      "Dr. Alexey Buzmakov\tEmail: buzmakov@gmail.com \n",
      "Primary Affiliation: Institute of Crystallography RAS\n",
      "\n",
      "\n",
      "Dr. Oleg Chubar\tEmail: chubar@bnl.gov \n",
      "Primary Affiliation: Photon Sciences Directorate, Brookhaven National Laboratory\n",
      "\n",
      "\n",
      "Dr. Liubov Samoylova\tEmail: liubov.samoylova@xfel.eu \n",
      "Primary Affiliation: European XFEL GmbH\n",
      "\n",
      "\n",
      "Dr. Harald Sinn\tEmail: harald.sinn@xfel.eu \n",
      "Primary Affiliation: European XFEL GmbH"
     ]
    },
    {
     "cell_type": "markdown",
     "metadata": {},
     "source": [
      "#Abstract text for Online or Printed Programs:\n",
      "We present a new interactive framework package for coherent and partially coherent X-ray wavefront propagation simulations \u2013 \u201cWaveProperGator\u201d (WPG). The package has been developed at European XFEL to facilitate for the end users (beamline scientists and XFEL users) the designing, optimizing and improving X-ray optics to meet their experimental requirements. Our package uses SRW C/C++ library and its Python binding for wavefront propagation simulations. The tool allows for changing source and optics parameters and visualizing the results interactively. The framework is cross-platform: it runs reliably on Linux, MS Windows 7, and Mac OS X. Several application examples, specific for XFEL, will be presented.\n",
      " \n",
      "#Abstract text for Technical Review Purpose:\n",
      "The simulations based on wave optics have become indispensable for beamline design for highly coherent novel X-ray sources such as X-ray Free Electron Lasers (XFEL). We present a new interactive framework package for coherent and partially coherent X-ray wavefront propagation simulations \u2013 \u201cWaveProperGator\u201d (WPG). The package has been developed at European XFEL to facilitate for the end users (beamline scientists and XFEL users) the designing, optimizing and improving X-ray optics to meet their experimental requirements. Our package uses SRW C/C++ library and its Python binding for wavefront propagation simulations. The tool allows for changing source and optics parameters and visualizing the results interactively. The framework is cross-platform: it runs reliably on Linux, MS Windows 7, and Mac OS X. Using IPython as a web-frontend make the users possible run the code at a remote server as well as at their local personal computer. One can use popular Python libraries (such as scipy, numpy, matplotlib) for pre- and post-processing as well as for visualization of the simulation results. The wavefronts are saved in hdf5 format for the eventual further processing and start-to-end simulations of experiments. The hdf5 format allows for keeping the calculation history within a single file, thus facilitating communication between various scientific groups, as well as cross-checking with other simulation results. The WPG source code together with guidelines for installation and application examples are available on the web. Several application examples, specific for XFEL, will be presented.\n",
      "\n",
      "#Topics:\n",
      "1. simulation methods (ray tracing, wavefront propagation, phase space tracking, etc...\n",
      "2. simulation of experiments with x-rays and experimental data processing\n",
      "3. simulations and optimization of complete instruments\n",
      "\n",
      "#Keywords:\n",
      "* coherent and partially coherent X-ray wavefront propagation\n",
      "* X-ray Free Electron Lasers\n",
      "* SRW\n",
      "\n",
      "#List of figures in manuscript:\n",
      "* workflow (?)\n",
      "* example 1: a) optical layout; b) fragment of corresponding ipython notebook; c) hdf5 fragment (viewer screenshot?)\n",
      "* example 1: simulation results {CRL|KB} \n",
      "* example 2: some XFEL pulse propagation (S2E or BP) \n",
      "\n",
      "#Conclusion and next steps:\n",
      "* WPG ...\n",
      "* part of S2E \n"
     ]
    },
    {
     "cell_type": "code",
     "collapsed": false,
     "input": [
      "!git add buzmakov_poster.ipynb\n",
      "!git commit -m 'Changes'"
     ],
     "language": "python",
     "metadata": {},
     "outputs": [
      {
       "output_type": "stream",
       "stream": "stdout",
       "text": [
        "[master 6a5b0d7] Changes\r\n",
        " 1 file changed, 69 insertions(+)\r\n",
        " create mode 100644 buzmakov_poster.ipynb\r\n"
       ]
      }
     ],
     "prompt_number": 1
    },
    {
     "cell_type": "markdown",
     "metadata": {},
     "source": [
      "#\u0417\u0430\u043c\u0435\u0442\u043a\u0438 \u043f\u043e\u0441\u043b\u0435 \u043f\u043e\u0435\u0437\u0434\u043a\u0438\n",
      "\n",
      "* \u0414\u043e\u043b\u0436\u043d\u0430 \u0431\u044b\u0442\u044c \u043f\u043e\u043b\u0435\u0437\u043d\u0430\u044f \u0438\u043d\u0444\u043e\u0440\u043c\u0430\u0446\u0438\u044f\n",
      "* \u0421\u0441\u044b\u043b\u043a\u0438 \u043d\u0430 \u0441\u0443\u0449\u0435\u0441\u0442\u0432\u0443\u044e\u0449\u0438\u0435 \u043f\u0440\u0438\u043c\u0435\u0440\u044b\n",
      "* \u0410\u043d\u0438\u043c\u0430\u0446\u0438\u044f?\n",
      "* 2 \u043a\u043e\u043b\u043e\u043d\u043a\u0438\n",
      "* \u041a\u043e\u0433\u0435\u0440\u0435\u043d\u0442\u043d\u043e\u0441\u0442\u044c\n",
      "* \u0421\u0441\u044b\u043b\u043a\u0430 \u043d\u0430 S2E\n",
      "* \u041c\u043e\u0434\u0435\u043b\u043b\u0438\u0440\u043e\u0432\u0430\u043d\u043d\u0438\u0435 \u0445\u0430\u0440\u0430\u043a\u0442\u0435\u0440\u043d\u043e\u0435 \u0434\u043b\u044f \u043b\u0430\u0437\u0435\u0440\u0430:\n",
      "    * \u0417\u0435\u0440\u043a\u0430\u043b\u043e\n",
      "    * \u0414\u0438\u0444\u0444\u0440\u0430\u043a\u0446\u0438\u044f"
     ]
    },
    {
     "cell_type": "markdown",
     "metadata": {},
     "source": [
      "# Example 1 (Propagation Gaussian through HOM and KB optics: soft x-ray beamline)"
     ]
    },
    {
     "cell_type": "markdown",
     "metadata": {},
     "source": [
      "L.Samoylova <liubov.samoylova@xfel.eu>, A.Buzmakov <buzmakov@gmail.com>\n",
      "\n",
      "Tutorial course on Wavefront Propagation Simulations, 28/11/2013, European XFEL, Hamburg.\n",
      "\n",
      "Wave optics software is based on SRW core library <https://github.com/ochubar/SRW>, available through WPG interactive framework <https://github.com/samoylv/WPG>"
     ]
    },
    {
     "cell_type": "markdown",
     "metadata": {},
     "source": [
      "First of all we should import optical elements from SRW:\n",
      "* free space drift (SRWLOptD)\n",
      "* aperture (SRWLOptA)\n",
      "* transmission plane (SRWLOptT)\n",
      "* lens (SRWLOptL)\n",
      "* mirror (SRWLOptMirEl)\n",
      "* container for optical elements (SRWLOptC)\n",
      "\n",
      "```python\n",
      "...\n",
      "from wpg.srwlib import srwl,SRWLOptD,SRWLOptA,SRWLOptC,SRWLOptT,SRWLOptL,SRWLOptMirEl\n",
      "...\n",
      "```"
     ]
    },
    {
     "cell_type": "markdown",
     "metadata": {},
     "source": [
      "## Defining initial wavefront and writing electric field data to h5-file\n",
      "\n",
      "Using functtion wpg.generators.build_gauss_wavefront_xy we construct 2-D gaussian wavefront with the following parameters:\n",
      "* points number: 400x400\n",
      "* x-range, y-range: 0.01946 m\n",
      "* energy: 0.8 keV\n",
      "* FWHM at waist in x and y dimansions: 1.58e-5 m\n",
      "* distance from waist: 281 m\n",
      "\n",
      "![Gaussian source](1.1.png)\n",
      "\n",
      "All visualization made with python matplotlib library.\n",
      "\n",
      "We can serialize and desearialize wpg.Wavefront objects to/from HDF5 files."
     ]
    },
    {
     "cell_type": "markdown",
     "metadata": {},
     "source": [
      "## Defining optical beamline(s) \n",
      "\n",
      "Optical beamline - an array (list) of pairs [optical element, propagation parameters].\n",
      "\n",
      "Optical element define parameters of optical element (length, sizes, profile, etc).\n",
      "\n",
      "Propagation parameters define the numerical parameters of propagation process (range, resolution of propagation grid, etc)"
     ]
    },
    {
     "cell_type": "markdown",
     "metadata": {},
     "source": [
      "Lets look on gaussian beam after rectangle aperture (0.0072x0.011 m) and drift space propagation (161.3 m)\n",
      "\n",
      "Optical Elements:\n",
      "* Aperture / Obstacle: Dx = 0.0072 m, Dy = 0.011 m, shape = 'rectangle'\n",
      "* Drift Space: L = 161.3\n",
      "\n",
      "![](1.4.png)\n",
      "\n",
      "FWHMx [mm], theta_fwhm [urad]: 8.57306633068 19.3829218419\n",
      "\n",
      "FWHMy [mm], theta_fwhm [urad]: 8.14575054955 18.4167997955"
     ]
    },
    {
     "cell_type": "markdown",
     "metadata": {},
     "source": [
      "## Propagating through BL1 beamline. Imperfect mirror, at KB aperture\n",
      "\n",
      "Let's add imperfect mirror at aperteure\n",
      "\n",
      "First  load KB mirror with the following profile:\n",
      "![](1.2.png) \n",
      "![](1.3.png)\n",
      "\n",
      "Optical Elements:\n",
      "* Aperture / Obstacle:\tDx = 0.0072 m, Dy = 0.011 m, x = 0 m, y = 0 m\n",
      "* Transmission (generic pahse plate): data for KB mirror loaded above\n",
      "* Drift Space: L = 161.3\n",
      "![](1.5.png)\n",
      "FWHMx [mm], theta_fwhm [urad]: 7.93323564802 17.9363229663\n",
      "\n",
      "FWHMy [mm], theta_fwhm [urad]: 8.14575054955 18.4167997955"
     ]
    },
    {
     "cell_type": "markdown",
     "metadata": {},
     "source": [
      "Focused beam: perfect KB + focusing (thin lense) \n",
      "\n",
      "Optical Elements:\n",
      "* Aperture:\tDx = 0.0072 m, Dy = 0.011 m, shape = 'rectangle'\n",
      "* Drift Space:\tL = 161.3 m\n",
      "* Aperture:\tDx = 0.0072 m, \tDy = 0.0072 m, shape = 'rectangle'\n",
      "* Thin Lens: Fx = 2.69843600778 m, \tFy = 1e+23 m, x = 0 m, y = 0 m\n",
      "* Drift Space: L = 1.0 m\t\n",
      "* Thin Lens: Fx = 1e+23 m, \tFy = 1.7083907284 m, x = 0 m, y = 0 m\n",
      "* Drift Space: L = 1.715 m\n",
      "\n",
      "![](1.6.png)"
     ]
    },
    {
     "cell_type": "markdown",
     "metadata": {},
     "source": [
      "#Exmaple 2 (S2E nanofocusing)"
     ]
    },
    {
     "cell_type": "markdown",
     "metadata": {},
     "source": [
      "* About S2E\n",
      "* About FAST code and input pules parameters"
     ]
    },
    {
     "cell_type": "markdown",
     "metadata": {},
     "source": [
      "This an example of propagation function using wpg functions.\n",
      "\n",
      "Optical Elements:\n",
      "* Drift Space: L = 300.0 m\n",
      "* Thin Lens: Fx = 2.0 m, Fy = 2.0 m, x = 0 m , y = 0 m\n",
      "* Drift Space: L = 2.01342281879 m\n",
      "    \n",
      "Python code:\n",
      "\n",
      "```python\n",
      "from wpg import Wavefront, Beamline\n",
      "from wpg.optical_elements import Drift, Lens, Use_PP\n",
      "import wpg.srwlib\n",
      "\n",
      "def propagate(in_fname, out_fname):\n",
      "    # Creating Wavefront object and load it from hdf5 file\n",
      "    wf=Wavefront()\n",
      "    wf.load_hdf5(in_fname)\n",
      "    \n",
      "    # Defining Drifts and Lens optical elements\n",
      "    distance = 300.\n",
      "    foc_dist = 2.\n",
      "    drift0 = Drift(_L=distance)\n",
      "    lens0  = Lens(_Fx=foc_dist, _Fy=foc_dist)\n",
      "    drift1 = Drift(_L=1./(1./foc_dist-1./distance))\n",
      "\n",
      "    # Building beamline \n",
      "    bl0 = Beamline()\n",
      "    bl0.append(drift0, Use_PP(semi_analytical_treatment=1,zoom=0.15,sampling=8))\n",
      "    bl0.append(lens0,  Use_PP())\n",
      "    bl0.append(drift1, Use_PP(semi_analytical_treatment=1,zoom=4.2,  sampling=0.5))\n",
      "    \n",
      "    # Switch to frequency representation of electric field  \n",
      "    wpg.srwlib.srwl.SetRepresElecField(wf._srwl_wf, 'f')\n",
      "    # Propagate wavefront though beamline\n",
      "    bl0.propagate(wf)\n",
      "    # Switch back to time representation of electric field\n",
      "    wpg.srwlib.srwl.SetRepresElecField(wf._srwl_wf, 't')\n",
      "\n",
      "    # Saving the wavefront data after propagation\n",
      "    wf.store_hdf5(out_fname)\n",
      "```\n",
      "\n",
      "Input intensity profile:\n",
      "![](2.1.png)\n",
      "Focused beam intensity profile:\n",
      "![](2.2.png)\n"
     ]
    },
    {
     "cell_type": "markdown",
     "metadata": {},
     "source": [
      "#S2E wavefront structure\n",
      "![](all.png)"
     ]
    },
    {
     "cell_type": "code",
     "collapsed": false,
     "input": [],
     "language": "python",
     "metadata": {},
     "outputs": []
    }
   ],
   "metadata": {}
  }
 ]
}