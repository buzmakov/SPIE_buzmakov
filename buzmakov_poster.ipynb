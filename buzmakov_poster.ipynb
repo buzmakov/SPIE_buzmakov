{
 "metadata": {
  "name": "",
  "signature": "sha256:658e394d99cbbb4da55a25eb3dd27154c014ced6bc85f2c3df99f3c7a36199d3"
 },
 "nbformat": 3,
 "nbformat_minor": 0,
 "worksheets": [
  {
   "cells": [
    {
     "cell_type": "markdown",
     "metadata": {},
     "source": [
      "# WaveProperGator: interactive framework for x-ray FEL optics design and simulation\n",
      "\n",
      "\n",
      "Dr. Alexey Buzmakov\tEmail: buzmakov@gmail.com \n",
      "Primary Affiliation: Institute of Crystallography RAS\n",
      "\n",
      "\n",
      "Dr. Oleg Chubar\tEmail: chubar@bnl.gov \n",
      "Primary Affiliation: Photon Sciences Directorate, Brookhaven National Laboratory\n",
      "\n",
      "\n",
      "Dr. Liubov Samoylova\tEmail: liubov.samoylova@xfel.eu \n",
      "Primary Affiliation: European XFEL GmbH\n",
      "\n",
      "\n",
      "Dr. Harald Sinn\tEmail: harald.sinn@xfel.eu \n",
      "Primary Affiliation: European XFEL GmbH"
     ]
    },
    {
     "cell_type": "markdown",
     "metadata": {},
     "source": [
      "#Abstract text for Online or Printed Programs:\n",
      "We present a new interactive framework package for coherent and partially coherent X-ray wavefront propagation simulations \u2013 \u201cWaveProperGator\u201d (WPG). The package has been developed at European XFEL to facilitate for the end users (beamline scientists and XFEL users) the designing, optimizing and improving X-ray optics to meet their experimental requirements. Our package uses SRW C/C++ library and its Python binding for wavefront propagation simulations. The tool allows for changing source and optics parameters and visualizing the results interactively. The framework is cross-platform: it runs reliably on Linux, MS Windows 7, and Mac OS X. Several application examples, specific for XFEL, will be presented.\n",
      " \n",
      "#Abstract text for Technical Review Purpose:\n",
      "The simulations based on wave optics have become indispensable for beamline design for highly coherent novel X-ray sources such as X-ray Free Electron Lasers (XFEL). We present a new interactive framework package for coherent and partially coherent X-ray wavefront propagation simulations \u2013 \u201cWaveProperGator\u201d (WPG). The package has been developed at European XFEL to facilitate for the end users (beamline scientists and XFEL users) the designing, optimizing and improving X-ray optics to meet their experimental requirements. Our package uses SRW C/C++ library and its Python binding for wavefront propagation simulations. The tool allows for changing source and optics parameters and visualizing the results interactively. The framework is cross-platform: it runs reliably on Linux, MS Windows 7, and Mac OS X. Using IPython as a web-frontend make the users possible run the code at a remote server as well as at their local personal computer. One can use popular Python libraries (such as scipy, numpy, matplotlib) for pre- and post-processing as well as for visualization of the simulation results. The wavefronts are saved in hdf5 format for the eventual further processing and start-to-end simulations of experiments. The hdf5 format allows for keeping the calculation history within a single file, thus facilitating communication between various scientific groups, as well as cross-checking with other simulation results. The WPG source code together with guidelines for installation and application examples are available on the web. Several application examples, specific for XFEL, will be presented.\n",
      "\n",
      "#Topics:\n",
      "1. simulation methods (ray tracing, wavefront propagation, phase space tracking, etc...\n",
      "2. simulation of experiments with x-rays and experimental data processing\n",
      "3. simulations and optimization of complete instruments\n",
      "\n",
      "#Keywords:\n",
      "* coherent and partially coherent X-ray wavefront propagation\n",
      "* X-ray Free Electron Lasers\n",
      "* SRW\n"
     ]
    },
    {
     "cell_type": "code",
     "collapsed": false,
     "input": [
      "!git add buzmakov_poster.ipynb"
     ],
     "language": "python",
     "metadata": {},
     "outputs": []
    }
   ],
   "metadata": {}
  }
 ]
}