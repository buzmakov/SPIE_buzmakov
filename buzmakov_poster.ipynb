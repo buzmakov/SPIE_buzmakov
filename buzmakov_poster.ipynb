{
 "metadata": {
  "name": "",
<<<<<<< HEAD
  "signature": "sha256:426208a5b4d15fef7599cea7d779cdf3b9049604928f8a363723ec000bcc1f3a"
=======
  "signature": "sha256:f17a16de6478fb066215e19d3bdb99b31ea9ac673f58d49ec29487e60f5a2de5"
>>>>>>> c43a2a6b8d382a4e7f22ed61ba6953d7b8ebc4f0
 },
 "nbformat": 3,
 "nbformat_minor": 0,
 "worksheets": [
  {
   "cells": [
    {
     "cell_type": "markdown",
     "metadata": {},
     "source": [
      "# WaveProperGator: interactive framework for x-ray FEL optics design and simulation\n",
      "\n",
      "\n",
      "Dr. Alexey Buzmakov\tEmail: buzmakov@gmail.com \n",
      "Primary Affiliation: Institute of Crystallography RAS\n",
      "\n",
      "\n",
      "Dr. Oleg Chubar\tEmail: chubar@bnl.gov \n",
      "Primary Affiliation: Photon Sciences Directorate, Brookhaven National Laboratory\n",
      "\n",
      "\n",
      "Dr. Liubov Samoylova\tEmail: liubov.samoylova@xfel.eu \n",
      "Primary Affiliation: European XFEL GmbH\n",
      "\n",
      "\n",
      "Dr. Harald Sinn\tEmail: harald.sinn@xfel.eu \n",
      "Primary Affiliation: European XFEL GmbH"
     ]
    },
    {
     "cell_type": "markdown",
     "metadata": {},
     "source": [
      "#Abstract text for Online or Printed Programs:\n",
      "We present a new interactive framework package for coherent and partially coherent X-ray wavefront propagation simulations \u2013 \u201cWaveProperGator\u201d (WPG). The package has been developed at European XFEL to facilitate for the end users (beamline scientists and XFEL users) the designing, optimizing and improving X-ray optics to meet their experimental requirements. Our package uses SRW C/C++ library and its Python binding for wavefront propagation simulations. The tool allows for changing source and optics parameters and visualizing the results interactively. The framework is cross-platform: it runs reliably on Linux, MS Windows 7, and Mac OS X. Several application examples, specific for XFEL, will be presented.\n",
      " \n",
      "#Abstract text for Technical Review Purpose:\n",
      "The simulations based on wave optics have become indispensable for beamline design for highly coherent novel X-ray sources such as X-ray Free Electron Lasers (XFEL). We present a new interactive framework package for coherent and partially coherent X-ray wavefront propagation simulations \u2013 \u201cWaveProperGator\u201d (WPG). The package has been developed at European XFEL to facilitate for the end users (beamline scientists and XFEL users) the designing, optimizing and improving X-ray optics to meet their experimental requirements. Our package uses SRW C/C++ library and its Python binding for wavefront propagation simulations. The tool allows for changing source and optics parameters and visualizing the results interactively. The framework is cross-platform: it runs reliably on Linux, MS Windows 7, and Mac OS X. Using IPython as a web-frontend make the users possible run the code at a remote server as well as at their local personal computer. One can use popular Python libraries (such as scipy, numpy, matplotlib) for pre- and post-processing as well as for visualization of the simulation results. The wavefronts are saved in hdf5 format for the eventual further processing and start-to-end simulations of experiments. The hdf5 format allows for keeping the calculation history within a single file, thus facilitating communication between various scientific groups, as well as cross-checking with other simulation results. The WPG source code together with guidelines for installation and application examples are available on the web. Several application examples, specific for XFEL, will be presented.\n",
      "\n",
      "#Topics:\n",
      "1. simulation methods (ray tracing, wavefront propagation, phase space tracking, etc...\n",
      "2. simulation of experiments with x-rays and experimental data processing\n",
      "3. simulations and optimization of complete instruments\n",
      "\n",
      "#Keywords:\n",
      "* coherent and partially coherent X-ray wavefront propagation\n",
      "* X-ray Free Electron Lasers\n",
      "* SRW\n",
      "\n",
      "#List of figures in manuscript:\n",
      "* workflow (?)\n",
      "* example 1: a) optical layout; b) fragment of corresponding ipython notebook; c) hdf5 fragment (viewer screenshot?)\n",
      "* example 1: simulation results {CRL|KB} \n",
      "* example 2: some XFEL pulse propagation (S2E or BP) \n",
      "\n",
      "#Conclusion and next steps:\n",
      "* WPG ...\n",
      "* part of S2E \n"
     ]
    },
    {
     "cell_type": "code",
     "collapsed": false,
     "input": [
      "!git add buzmakov_poster.ipynb\n",
      "!git commit -m 'Changes'"
     ],
     "language": "python",
     "metadata": {},
     "outputs": [
      {
       "output_type": "stream",
       "stream": "stdout",
       "text": [
        "[master 6a5b0d7] Changes\r\n",
        " 1 file changed, 69 insertions(+)\r\n",
        " create mode 100644 buzmakov_poster.ipynb\r\n"
       ]
      }
     ],
     "prompt_number": 1
    },
    {
     "cell_type": "markdown",
     "metadata": {},
     "source": [
      "#\u0417\u0430\u043c\u0435\u0442\u043a\u0438 \u043f\u043e\u0441\u043b\u0435 \u043f\u043e\u0435\u0437\u0434\u043a\u0438\n",
      "\n",
      "* \u0414\u043e\u043b\u0436\u043d\u0430 \u0431\u044b\u0442\u044c \u043f\u043e\u043b\u0435\u0437\u043d\u0430\u044f \u0438\u043d\u0444\u043e\u0440\u043c\u0430\u0446\u0438\u044f\n",
      "* \u0421\u0441\u044b\u043b\u043a\u0438 \u043d\u0430 \u0441\u0443\u0449\u0435\u0441\u0442\u0432\u0443\u044e\u0449\u0438\u0435 \u043f\u0440\u0438\u043c\u0435\u0440\u044b\n",
      "* \u0410\u043d\u0438\u043c\u0430\u0446\u0438\u044f?\n",
      "* 2 \u043a\u043e\u043b\u043e\u043d\u043a\u0438\n",
      "* \u041a\u043e\u0433\u0435\u0440\u0435\u043d\u0442\u043d\u043e\u0441\u0442\u044c\n",
      "* \u0421\u0441\u044b\u043b\u043a\u0430 \u043d\u0430 S2E\n",
      "* \u041c\u043e\u0434\u0435\u043b\u043b\u0438\u0440\u043e\u0432\u0430\u043d\u043d\u0438\u0435 \u0445\u0430\u0440\u0430\u043a\u0442\u0435\u0440\u043d\u043e\u0435 \u0434\u043b\u044f \u043b\u0430\u0437\u0435\u0440\u0430:\n",
      "    * \u0417\u0435\u0440\u043a\u0430\u043b\u043e\n",
      "    * \u0414\u0438\u0444\u0444\u0440\u0430\u043a\u0446\u0438\u044f"
     ]
    },
    {
     "cell_type": "code",
     "collapsed": false,
     "input": [],
     "language": "python",
     "metadata": {},
     "outputs": []
    }
   ],
   "metadata": {}
  }
 ]
}